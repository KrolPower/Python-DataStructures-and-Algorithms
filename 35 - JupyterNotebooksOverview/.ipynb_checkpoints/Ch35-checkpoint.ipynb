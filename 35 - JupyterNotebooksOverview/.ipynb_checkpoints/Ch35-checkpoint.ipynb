{
 "cells": [
  {
   "cell_type": "code",
   "execution_count": null,
   "id": "1ef9e36b-4ac1-43c6-a332-c0458c5235c5",
   "metadata": {},
   "outputs": [],
   "source": [
    "1+1  # shift enter to run cell"
   ]
  },
  {
   "cell_type": "code",
   "execution_count": null,
   "id": "15fb475a-9f0f-44f4-8790-1773c177307d",
   "metadata": {},
   "outputs": [],
   "source": [
    "from math import sqrt"
   ]
  },
  {
   "cell_type": "code",
   "execution_count": null,
   "id": "71e13f78-b4a1-487e-88ba-efc2b700bb06",
   "metadata": {},
   "outputs": [],
   "source": [
    "s = \"hello\""
   ]
  },
  {
   "cell_type": "code",
   "execution_count": null,
   "id": "dc7306da-9a10-4225-b788-5e32ea94bfcd",
   "metadata": {},
   "outputs": [],
   "source": [
    "s.upper()"
   ]
  }
 ],
 "metadata": {
  "kernelspec": {
   "display_name": "Python 3 (ipykernel)",
   "language": "python",
   "name": "python3"
  },
  "language_info": {
   "codemirror_mode": {
    "name": "ipython",
    "version": 3
   },
   "file_extension": ".py",
   "mimetype": "text/x-python",
   "name": "python",
   "nbconvert_exporter": "python",
   "pygments_lexer": "ipython3",
   "version": "3.10.0"
  }
 },
 "nbformat": 4,
 "nbformat_minor": 5
}
