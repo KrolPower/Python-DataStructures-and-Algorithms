{
 "cells": [
  {
   "cell_type": "markdown",
   "id": "8b99bab2-47b9-46f8-8590-ffadaf5b5368",
   "metadata": {},
   "source": [
    "# Add Two Numbers\n",
    "##Problem\n",
    "\n",
    "add two numbers together"
   ]
  },
  {
   "cell_type": "code",
   "execution_count": 2,
   "id": "f504654c-d702-4f87-89d4-b9d3631956da",
   "metadata": {},
   "outputs": [],
   "source": [
    "def solution(num1, num2):\n",
    "    return num1+num2"
   ]
  },
  {
   "cell_type": "code",
   "execution_count": 5,
   "id": "5f804aa4-5390-48a0-87eb-1bf72487c006",
   "metadata": {},
   "outputs": [],
   "source": [
    "from nose.tools import assert_equal\n",
    "\n",
    "class SolutionTest(object):\n",
    "    \n",
    "    def test(self, sol):\n",
    "        assert_equal(sol(2,2),4)\n",
    "        assert_equal(sol(4,4),8)"
   ]
  },
  {
   "cell_type": "code",
   "execution_count": null,
   "id": "5706825d-5efc-4701-9a0a-9f402c233e6e",
   "metadata": {},
   "outputs": [],
   "source": []
  }
 ],
 "metadata": {
  "kernelspec": {
   "display_name": "Python 3 (ipykernel)",
   "language": "python",
   "name": "python3"
  },
  "language_info": {
   "codemirror_mode": {
    "name": "ipython",
    "version": 3
   },
   "file_extension": ".py",
   "mimetype": "text/x-python",
   "name": "python",
   "nbconvert_exporter": "python",
   "pygments_lexer": "ipython3",
   "version": "3.10.0"
  }
 },
 "nbformat": 4,
 "nbformat_minor": 5
}
